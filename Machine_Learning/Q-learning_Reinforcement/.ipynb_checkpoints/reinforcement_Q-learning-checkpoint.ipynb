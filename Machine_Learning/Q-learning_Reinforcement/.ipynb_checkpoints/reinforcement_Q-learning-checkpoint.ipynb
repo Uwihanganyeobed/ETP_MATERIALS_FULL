{
 "cells": [
  {
   "cell_type": "code",
   "execution_count": 3,
   "id": "c51c07b0-9ce7-49f6-94ff-d8e11523ec85",
   "metadata": {},
   "outputs": [
    {
     "name": "stdout",
     "output_type": "stream",
     "text": [
      "Q-table after training:\n",
      " [[2.63751364 4.27699896]\n",
      " [2.61959376 5.98538595]\n",
      " [3.86019732 7.87014061]\n",
      " [5.37878069 9.94846225]\n",
      " [0.         0.        ]]\n"
     ]
    }
   ],
   "source": [
    "import numpy as np\n",
    "import random\n",
    "\n",
    "# Step 1: Initialize Q-table and parameters\n",
    "grid_size = 5  # 1D grid with 5 cells\n",
    "q_table = np.zeros((grid_size, 2))  # 2 actions: left (0) and right (1)\n",
    "learning_rate = 0.1\n",
    "discount_factor = 0.9\n",
    "episodes = 50\n",
    "\n",
    "# Step 2: Q-learning process\n",
    "for episode in range(episodes):\n",
    "    state = 0  # Start at the first cell\n",
    "    while state < grid_size - 1:  # Until reaching the goal\n",
    "        action = random.choice([0, 1]) if random.uniform(0, 1) < 0.8 else np.argmax(q_table[state])\n",
    "        next_state = state + (1 if action == 1 else -1)\n",
    "        next_state = max(0, min(grid_size - 1, next_state))\n",
    "        reward = 10 if next_state == grid_size - 1 else -1\n",
    "        q_table[state, action] += learning_rate * (\n",
    "            reward + discount_factor * np.max(q_table[next_state]) - q_table[state, action]\n",
    "        )\n",
    "        state = next_state\n",
    "\n",
    "# Step 3: Display Q-table\n",
    "print(\"Q-table after training:\\n\", q_table)\n"
   ]
  }
 ],
 "metadata": {
  "kernelspec": {
   "display_name": "Python 3 (ipykernel)",
   "language": "python",
   "name": "python3"
  },
  "language_info": {
   "codemirror_mode": {
    "name": "ipython",
    "version": 3
   },
   "file_extension": ".py",
   "mimetype": "text/x-python",
   "name": "python",
   "nbconvert_exporter": "python",
   "pygments_lexer": "ipython3",
   "version": "3.12.7"
  }
 },
 "nbformat": 4,
 "nbformat_minor": 5
}
