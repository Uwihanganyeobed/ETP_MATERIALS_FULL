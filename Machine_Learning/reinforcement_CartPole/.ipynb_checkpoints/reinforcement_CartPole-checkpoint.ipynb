{
 "cells": [
  {
   "cell_type": "code",
   "execution_count": 3,
   "id": "c7f79b1d-bb71-4603-892b-22ab138bd480",
   "metadata": {},
   "outputs": [
    {
     "name": "stdout",
     "output_type": "stream",
     "text": [
      "Learned Q-table:\n",
      "[[0.3122 0.458 ]\n",
      " [0.3122 0.62  ]\n",
      " [0.458  0.8   ]\n",
      " [0.62   1.    ]\n",
      " [0.     0.    ]]\n"
     ]
    }
   ],
   "source": [
    "import numpy as np\n",
    "# Parameters\n",
    "num_states = 5  # 1D grid with 5 cells\n",
    "goal_state = 4  # Goal at the last cell\n",
    "actions = [0, 1]  # 0: move left, 1: move right\n",
    "Q = np.zeros((num_states, len(actions)))  # Q-table\n",
    "\n",
    "# Training loop\n",
    "for episode in range(100):  # 100 episodes\n",
    "    state = 0  # Start at the first cell\n",
    "    while state != goal_state:\n",
    "        action = np.random.choice(actions)  # Choose action randomly\n",
    "        new_state = max(0, min(num_states - 1, state + (1 if action == 1 else -1)))  # Move left or right\n",
    "        reward = 1 if new_state == goal_state else -0.1  # Reward for goal, small penalty for others\n",
    "        Q[state, action] = reward + 0.9 * max(Q[new_state])  # Update Q-value\n",
    "        state = new_state  # Move to new state\n",
    "\n",
    "# Print learned Q-values\n",
    "print(\"Learned Q-table:\")\n",
    "print(Q)\n"
   ]
  },
  {
   "cell_type": "code",
   "execution_count": null,
   "id": "aa537fce-5167-4764-ab2c-cedbc00923e1",
   "metadata": {},
   "outputs": [],
   "source": []
  }
 ],
 "metadata": {
  "kernelspec": {
   "display_name": "Python 3 (ipykernel)",
   "language": "python",
   "name": "python3"
  },
  "language_info": {
   "codemirror_mode": {
    "name": "ipython",
    "version": 3
   },
   "file_extension": ".py",
   "mimetype": "text/x-python",
   "name": "python",
   "nbconvert_exporter": "python",
   "pygments_lexer": "ipython3",
   "version": "3.12.7"
  }
 },
 "nbformat": 4,
 "nbformat_minor": 5
}
